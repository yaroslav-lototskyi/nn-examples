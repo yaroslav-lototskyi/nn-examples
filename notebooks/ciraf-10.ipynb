{
  "cells": [
    {
      "cell_type": "code",
      "execution_count": 29,
      "metadata": {
        "vscode": {
          "languageId": "plaintext"
        },
        "id": "ci3GcMaXhZWK",
        "outputId": "468b39c7-9ee3-4686-ce96-79a6bcddc8c5",
        "colab": {
          "base_uri": "https://localhost:8080/",
          "height": 489
        }
      },
      "outputs": [
        {
          "output_type": "stream",
          "name": "stdout",
          "text": [
            "Files already downloaded and verified\n",
            "Files already downloaded and verified\n"
          ]
        },
        {
          "output_type": "display_data",
          "data": {
            "text/plain": [
              "<Figure size 640x480 with 1 Axes>"
            ],
            "image/png": "[encoded data removed]"
          },
          "metadata": {}
        },
        {
          "output_type": "stream",
          "name": "stdout",
          "text": [
            "deer airplane frog deer horse deer ship ship\n"
          ]
        }
      ],
      "source": [
        "import torch\n",
        "import torchvision\n",
        "import torchvision.transforms as transforms\n",
        "from torch.utils.data import DataLoader, random_split\n",
        "import matplotlib.pyplot as plt\n",
        "import numpy as np\n",
        "\n",
        "transform = transforms.Compose([\n",
        "    transforms.RandomHorizontalFlip(),\n",
        "    transforms.RandomCrop(32, padding=4),\n",
        "    transforms.ToTensor(),\n",
        "    transforms.Normalize((0.5, 0.5, 0.5), (0.5, 0.5, 0.5))\n",
        "])\n",
        "\n",
        "\n",
        "train_dataset = torchvision.datasets.CIFAR10(root=\"./data\", train=True, download=True, transform=transform)\n",
        "test_dataset = torchvision.datasets.CIFAR10(root=\"./data\", train=False, download=True, transform=transform)\n",
        "\n",
        "# Розділення навчальної вибірки на навчальну та валідаційну\n",
        "train_size = int(0.8 * len(train_dataset))\n",
        "val_size = len(train_dataset) - train_size\n",
        "train_dataset, val_dataset = random_split(train_dataset, [train_size, val_size])\n",
        "\n",
        "# Створення DataLoader'ів\n",
        "train_loader = DataLoader(train_dataset, batch_size=2048, shuffle=True)\n",
        "val_loader = DataLoader(val_dataset, batch_size=2048, shuffle=False)\n",
        "test_loader = DataLoader(test_dataset, batch_size=2048, shuffle=False)\n",
        "\n",
        "# Візуалізація прикладів з набору даних\n",
        "classes = train_dataset.dataset.classes\n",
        "\n",
        "def imshow(img):\n",
        "    img = img / 2 + 0.5  # денормалізація\n",
        "    npimg = img.numpy()\n",
        "    plt.imshow(np.transpose(npimg, (1, 2, 0)))\n",
        "    plt.show()\n",
        "\n",
        "dataiter = iter(train_loader)\n",
        "images, labels = next(dataiter)\n",
        "imshow(torchvision.utils.make_grid(images))\n",
        "print(\" \".join(f\"{classes[labels[j]]}\" for j in range(8)))\n"
      ]
    },
    {
      "cell_type": "code",
      "source": [
        "import torch.nn as nn\n",
        "import torch.nn.functional as F\n",
        "\n",
        "class Net(nn.Module):\n",
        "    def __init__(self):\n",
        "        super(Net, self).__init__()\n",
        "        self.conv1 = nn.Conv2d(3, 64, kernel_size=3, padding=1)\n",
        "        self.conv2 = nn.Conv2d(64, 128, kernel_size=3, padding=1)\n",
        "        self.global_pool = nn.AdaptiveAvgPool2d((1, 1))\n",
        "        self.fc1 = nn.Linear(128, 10)\n",
        "\n",
        "    def forward(self, x):\n",
        "        x = F.leaky_relu(self.conv1(x),negative_slope=0.01)\n",
        "        x = F.leaky_relu(self.conv2(x),negative_slope=0.01)\n",
        "        x = self.global_pool(x)\n",
        "        x = torch.flatten(x, 1)\n",
        "        x = self.fc1(x)\n",
        "        return x\n",
        "\n",
        "\n",
        "net = Net()\n",
        "print(net)\n"
      ],
      "metadata": {
        "id": "6bUuycPInQ3g",
        "outputId": "5cd8fae7-3988-4578-dea3-e55e2fdac548",
        "colab": {
          "base_uri": "https://localhost:8080/"
        }
      },
      "execution_count": 4,
      "outputs": [
        {
          "output_type": "stream",
          "name": "stdout",
          "text": [
            "Net(\n",
            "  (conv1): Conv2d(3, 64, kernel_size=(3, 3), stride=(1, 1), padding=(1, 1))\n",
            "  (conv2): Conv2d(64, 128, kernel_size=(3, 3), stride=(1, 1), padding=(1, 1))\n",
            "  (global_pool): AdaptiveAvgPool2d(output_size=(1, 1))\n",
            "  (fc1): Linear(in_features=128, out_features=10, bias=True)\n",
            ")\n"
          ]
        }
      ]
    },
    {
      "cell_type": "code",
      "source": [
        "import torch\n",
        "device = torch.device(\"cuda\" if torch.cuda.is_available() else \"cpu\")\n",
        "net = net.to(device)"
      ],
      "metadata": {
        "id": "ZXHMRRHeoUdx"
      },
      "execution_count": 5,
      "outputs": []
    },
    {
      "cell_type": "code",
      "source": [
        "import torch.optim as optim\n",
        "from torch.optim.lr_scheduler import StepLR\n",
        "\n",
        "# Функція втрат\n",
        "criterion = nn.CrossEntropyLoss(label_smoothing=0.1)\n",
        "\n",
        "# Оптимізатор\n",
        "optimizer = optim.Adam(net.parameters(), lr=0.01, weight_decay=1e-4)  # weight_decay для L2-регуляризації\n",
        "scheduler = StepLR(optimizer, step_size=10, gamma=0.1)\n"
      ],
      "metadata": {
        "id": "6Afq2XvWp676"
      },
      "execution_count": 32,
      "outputs": []
    },
    {
      "cell_type": "code",
      "source": [
        "import numpy as np\n",
        "import torch\n",
        "\n",
        "class EarlyStopping:\n",
        "    \"\"\"Зупиняє навчання, якщо валідаційна втрата не покращується.\"\"\"\n",
        "    def __init__(self, patience=7, verbose=False, delta=0, path='checkpoint.pth', trace_func=print):\n",
        "        \"\"\"\n",
        "        Args:\n",
        "            patience (int): Скільки епох чекати без покращень (default: 7)\n",
        "            verbose (bool): Виводити повідомлення про збереження моделі (default: False)\n",
        "            delta (float): Мінімальне покращення для валідаційної втрати, яке вважається значним (default: 0)\n",
        "            path (str): Шлях для збереження найкращої моделі (default: 'checkpoint.pth')\n",
        "            trace_func (function): Функція для логування (default: print)\n",
        "        \"\"\"\n",
        "        self.patience = patience\n",
        "        self.verbose = verbose\n",
        "        self.delta = delta\n",
        "        self.path = path\n",
        "        self.trace_func = trace_func\n",
        "        self.counter = 0\n",
        "        self.best_score = None\n",
        "        self.early_stop = False\n",
        "        self.val_loss_min = np.Inf\n",
        "\n",
        "    def __call__(self, val_loss, model):\n",
        "        score = -val_loss\n",
        "\n",
        "        if self.best_score is None:\n",
        "            self.best_score = score\n",
        "            self.save_checkpoint(val_loss, model)\n",
        "        elif score < self.best_score + self.delta:\n",
        "            self.counter += 1\n",
        "            self.trace_func(f\"EarlyStopping counter: {self.counter} out of {self.patience}\")\n",
        "            if self.counter >= self.patience:\n",
        "                self.early_stop = True\n",
        "        else:\n",
        "            self.best_score = score\n",
        "            self.save_checkpoint(val_loss, model)\n",
        "            self.counter = 0\n",
        "\n",
        "    def save_checkpoint(self, val_loss, model):\n",
        "        \"\"\"Зберігає модель, якщо валідаційна втрата покращилась.\"\"\"\n",
        "        if self.verbose:\n",
        "            self.trace_func(f\"Validation loss decreased ({self.val_loss_min:.6f} --> {val_loss:.6f}). Saving model ...\")\n",
        "        torch.save(model.state_dict(), self.path)\n",
        "        self.val_loss_min = val_loss\n"
      ],
      "metadata": {
        "id": "YCE7qQ3lTOXj"
      },
      "execution_count": 7,
      "outputs": []
    },
    {
      "cell_type": "code",
      "source": [
        "import matplotlib.pyplot as plt\n",
        "from tqdm import tqdm\n",
        "\n",
        "def train_model(net, train_loader, val_loader, optimizer, criterion, scheduler, num_epochs=10, patience=5):\n",
        "    train_losses, val_losses = [], []\n",
        "\n",
        "    # Ініціалізація EarlyStopping\n",
        "    early_stopping = EarlyStopping(patience=patience, verbose=True, path='best_model.pth')\n",
        "\n",
        "    # Підготовка динамічного графіка\n",
        "    plt.ion()  # Увімкнення інтерактивного режиму\n",
        "    fig, ax = plt.subplots()\n",
        "    ax.set_title(\"Training and Validation Loss\")\n",
        "    ax.set_xlabel(\"Epoch\")\n",
        "    ax.set_ylabel(\"Loss\")\n",
        "    train_line, = ax.plot([], [], label=\"Train Loss\", color=\"blue\")\n",
        "    val_line, = ax.plot([], [], label=\"Validation Loss\", color=\"orange\")\n",
        "    ax.legend()\n",
        "\n",
        "    for epoch in range(num_epochs):\n",
        "        net.train()\n",
        "        running_loss = 0.0\n",
        "\n",
        "        for inputs, labels in tqdm(train_loader, desc=f\"Epoch {epoch+1}/{num_epochs}\"):\n",
        "            inputs, labels = inputs.to(device), labels.to(device)\n",
        "\n",
        "            # Нульова ініціалізація градієнтів\n",
        "            optimizer.zero_grad()\n",
        "\n",
        "            # Прямий прохід\n",
        "            outputs = net(inputs)\n",
        "            loss = criterion(outputs, labels)\n",
        "            loss.backward()\n",
        "            optimizer.step()\n",
        "\n",
        "            running_loss += loss.item()\n",
        "\n",
        "        train_losses.append(running_loss / len(train_loader))\n",
        "\n",
        "        # Валідація\n",
        "        net.eval()\n",
        "        val_loss = 0.0\n",
        "        with torch.no_grad():\n",
        "            for inputs, labels in val_loader:\n",
        "                inputs, labels = inputs.to(device), labels.to(device)\n",
        "                outputs = net(inputs)\n",
        "                loss = criterion(outputs, labels)\n",
        "                val_loss += loss.item()\n",
        "\n",
        "        val_losses.append(val_loss / len(val_loader))\n",
        "\n",
        "        print(f\"Epoch {epoch+1}: Train Loss = {train_losses[-1]:.4f}, Val Loss = {val_losses[-1]:.4f}\")\n",
        "\n",
        "        # Оновлення графіка\n",
        "        train_line.set_data(range(1, len(train_losses) + 1), train_losses)\n",
        "        val_line.set_data(range(1, len(val_losses) + 1), val_losses)\n",
        "        ax.set_xlim(0, num_epochs + 1)\n",
        "        ax.set_ylim(0, max(max(train_losses), max(val_losses)) * 1.1)\n",
        "        fig.canvas.draw()\n",
        "        fig.canvas.flush_events()\n",
        "\n",
        "        # Виклик EarlyStopping\n",
        "        early_stopping(val_losses[-1], net)\n",
        "\n",
        "        # Перевірка, чи потрібно зупинити навчання\n",
        "        if early_stopping.early_stop:\n",
        "            print(\"Early stopping\")\n",
        "            break\n",
        "\n",
        "        # Крок для Scheduler\n",
        "        scheduler.step()\n",
        "\n",
        "    # Завантажити найкращу модель\n",
        "    net.load_state_dict(torch.load('best_model.pth'))\n",
        "\n",
        "    # Завершення графіка\n",
        "    plt.ioff()  # Вимкнення інтерактивного режиму\n",
        "    plt.show()\n",
        "\n",
        "    return train_losses, val_losses\n"
      ],
      "metadata": {
        "id": "rHWmvjcAn0oh"
      },
      "execution_count": 33,
      "outputs": []
    },
    {
      "cell_type": "code",
      "source": [
        "print(next(net.parameters()).device)\n",
        "train_losses, val_losses = train_model(\n",
        "    net=net,\n",
        "    train_loader=train_loader,\n",
        "    val_loader=val_loader,\n",
        "    optimizer=optimizer,\n",
        "    criterion=criterion,\n",
        "    scheduler=scheduler,\n",
        "    num_epochs=10,  # Максимальна кількість епох\n",
        "    patience=1      # Кількість епох без покращень перед зупинкою\n",
        ")\n",
        "print(train_losses, val_losses)"
      ],
      "metadata": {
        "id": "Zph8nvs5UBhg",
        "outputId": "3c349d4f-b7e1-48e1-d292-161f915059bb",
        "colab": {
          "base_uri": "https://localhost:8080/",
          "height": 1000
        }
      },
      "execution_count": 34,
      "outputs": [
        {
          "output_type": "stream",
          "name": "stdout",
          "text": [
            "cuda:0\n"
          ]
        },
        {
          "output_type": "stream",
          "name": "stderr",
          "text": [
            "Epoch 1/10: 100%|██████████| 20/20 [00:20<00:00,  1.03s/it]\n"
          ]
        },
        {
          "output_type": "stream",
          "name": "stdout",
          "text": [
            "Epoch 1: Train Loss = 2.4274, Val Loss = 1.9489\n",
            "Validation loss decreased (inf --> 1.948903). Saving model ...\n"
          ]
        },
        {
          "output_type": "stream",
          "name": "stderr",
          "text": [
            "Epoch 2/10: 100%|██████████| 20/20 [00:20<00:00,  1.03s/it]\n"
          ]
        },
        {
          "output_type": "stream",
          "name": "stdout",
          "text": [
            "Epoch 2: Train Loss = 1.8852, Val Loss = 1.7902\n",
            "Validation loss decreased (1.948903 --> 1.790215). Saving model ...\n"
          ]
        },
        {
          "output_type": "stream",
          "name": "stderr",
          "text": [
            "Epoch 3/10: 100%|██████████| 20/20 [00:20<00:00,  1.03s/it]\n"
          ]
        },
        {
          "output_type": "stream",
          "name": "stdout",
          "text": [
            "Epoch 3: Train Loss = 1.7569, Val Loss = 1.7110\n",
            "Validation loss decreased (1.790215 --> 1.711009). Saving model ...\n"
          ]
        },
        {
          "output_type": "stream",
          "name": "stderr",
          "text": [
            "Epoch 4/10: 100%|██████████| 20/20 [00:20<00:00,  1.03s/it]\n"
          ]
        },
        {
          "output_type": "stream",
          "name": "stdout",
          "text": [
            "Epoch 4: Train Loss = 1.7003, Val Loss = 1.6788\n",
            "Validation loss decreased (1.711009 --> 1.678815). Saving model ...\n"
          ]
        },
        {
          "output_type": "stream",
          "name": "stderr",
          "text": [
            "Epoch 5/10: 100%|██████████| 20/20 [00:20<00:00,  1.03s/it]\n"
          ]
        },
        {
          "output_type": "stream",
          "name": "stdout",
          "text": [
            "Epoch 5: Train Loss = 1.6737, Val Loss = 1.6557\n",
            "Validation loss decreased (1.678815 --> 1.655666). Saving model ...\n"
          ]
        },
        {
          "output_type": "stream",
          "name": "stderr",
          "text": [
            "Epoch 6/10: 100%|██████████| 20/20 [00:20<00:00,  1.04s/it]\n"
          ]
        },
        {
          "output_type": "stream",
          "name": "stdout",
          "text": [
            "Epoch 6: Train Loss = 1.6583, Val Loss = 1.6340\n",
            "Validation loss decreased (1.655666 --> 1.634029). Saving model ...\n"
          ]
        },
        {
          "output_type": "stream",
          "name": "stderr",
          "text": [
            "Epoch 7/10: 100%|██████████| 20/20 [00:20<00:00,  1.03s/it]\n"
          ]
        },
        {
          "output_type": "stream",
          "name": "stdout",
          "text": [
            "Epoch 7: Train Loss = 1.6440, Val Loss = 1.6315\n",
            "Validation loss decreased (1.634029 --> 1.631508). Saving model ...\n"
          ]
        },
        {
          "output_type": "stream",
          "name": "stderr",
          "text": [
            "Epoch 8/10: 100%|██████████| 20/20 [00:20<00:00,  1.02s/it]\n"
          ]
        },
        {
          "output_type": "stream",
          "name": "stdout",
          "text": [
            "Epoch 8: Train Loss = 1.6365, Val Loss = 1.6181\n",
            "Validation loss decreased (1.631508 --> 1.618055). Saving model ...\n"
          ]
        },
        {
          "output_type": "stream",
          "name": "stderr",
          "text": [
            "Epoch 9/10: 100%|██████████| 20/20 [00:20<00:00,  1.03s/it]\n"
          ]
        },
        {
          "output_type": "stream",
          "name": "stdout",
          "text": [
            "Epoch 9: Train Loss = 1.6216, Val Loss = 1.6022\n",
            "Validation loss decreased (1.618055 --> 1.602157). Saving model ...\n"
          ]
        },
        {
          "output_type": "stream",
          "name": "stderr",
          "text": [
            "Epoch 10/10: 100%|██████████| 20/20 [00:20<00:00,  1.02s/it]\n"
          ]
        },
        {
          "output_type": "stream",
          "name": "stdout",
          "text": [
            "Epoch 10: Train Loss = 1.6121, Val Loss = 1.6267\n",
            "EarlyStopping counter: 1 out of 3\n"
          ]
        },
        {
          "output_type": "stream",
          "name": "stderr",
          "text": [
            "<ipython-input-33-5427c07329b2>:74: FutureWarning: You are using `torch.load` with `weights_only=False` (the current default value), which uses the default pickle module implicitly. It is possible to construct malicious pickle data which will execute arbitrary code during unpickling (See https://github.com/pytorch/pytorch/blob/main/SECURITY.md#untrusted-models for more details). In a future release, the default value for `weights_only` will be flipped to `True`. This limits the functions that could be executed during unpickling. Arbitrary objects will no longer be allowed to be loaded via this mode unless they are explicitly allowlisted by the user via `torch.serialization.add_safe_globals`. We recommend you start setting `weights_only=True` for any use case where you don't have full control of the loaded file. Please open an issue on GitHub for any issues related to this experimental feature.\n",
            "  net.load_state_dict(torch.load('best_model.pth'))\n"
          ]
        },
        {
          "output_type": "display_data",
          "data": {
            "text/plain": [
              "<Figure size 640x480 with 1 Axes>"
            ],
            "image/png": "[encoded data removed]"
          },
          "metadata": {}
        },
        {
          "output_type": "stream",
          "name": "stdout",
          "text": [
            "[2.427442842721939, 1.8851659715175628, 1.7569118678569793, 1.700304388999939, 1.673712009191513, 1.6582549631595611, 1.644025981426239, 1.6365089416503906, 1.6215766668319702, 1.6121277570724488] [1.9489026069641113, 1.7902146100997924, 1.711008644104004, 1.6788150072097778, 1.6556657314300538, 1.634029006958008, 1.631508183479309, 1.6180552959442138, 1.6021568775177002, 1.6266830921173097]\n"
          ]
        }
      ]
    },
    {
      "cell_type": "code",
      "source": [
        "# Завантаження найкращої моделі\n",
        "import os\n",
        "if os.path.exists(\"best_model.pth\"):\n",
        "    net.load_state_dict(torch.load(\"best_model.pth\"))\n",
        "else:\n",
        "    print(\"Model file not found!\")\n",
        "    exit()\n",
        "\n",
        "# Оцінка на тестових даних\n",
        "net.eval()\n",
        "test_loss = 0.0\n",
        "correct = 0\n",
        "total = 0\n",
        "num_classes = 10\n",
        "class_correct = [0] * num_classes\n",
        "class_total = [0] * num_classes\n",
        "\n",
        "with torch.no_grad():\n",
        "    for inputs, labels in test_loader:\n",
        "        inputs, labels = inputs.to(device), labels.to(device)\n",
        "        outputs = net(inputs)\n",
        "\n",
        "        # Обчислення втрат\n",
        "        loss = criterion(outputs, labels)\n",
        "        test_loss += loss.item() * inputs.size(0)\n",
        "\n",
        "        # Обчислення точності\n",
        "        _, predicted = torch.max(outputs, 1)\n",
        "        correct += (predicted == labels).sum().item()\n",
        "        total += labels.size(0)\n",
        "\n",
        "        # Класова точність\n",
        "        for i in range(labels.size(0)):\n",
        "            label = labels[i]\n",
        "            class_correct[label] += (predicted[i] == label).item()\n",
        "            class_total[label] += 1\n",
        "\n",
        "# Результати\n",
        "test_loss /= total\n",
        "test_accuracy = 100 * correct / total\n",
        "print(f\"Test Loss: {test_loss:.4f}, Test Accuracy: {test_accuracy:.2f}%\")\n",
        "\n",
        "# Точність для кожного класу\n",
        "for i in range(num_classes):\n",
        "    if class_total[i] > 0:\n",
        "        print(f\"Accuracy of class {i}: {100 * class_correct[i] / class_total[i]:.2f}%\")\n",
        "    else:\n",
        "        print(f\"Accuracy of class {i}: No samples\")\n"
      ],
      "metadata": {
        "id": "cfiRXQPduy0J",
        "outputId": "70c8928c-da6c-4644-89ba-070ef2509866",
        "colab": {
          "base_uri": "https://localhost:8080/"
        }
      },
      "execution_count": 36,
      "outputs": [
        {
          "output_type": "stream",
          "name": "stderr",
          "text": [
            "<ipython-input-36-c3c814b5c717>:4: FutureWarning: You are using `torch.load` with `weights_only=False` (the current default value), which uses the default pickle module implicitly. It is possible to construct malicious pickle data which will execute arbitrary code during unpickling (See https://github.com/pytorch/pytorch/blob/main/SECURITY.md#untrusted-models for more details). In a future release, the default value for `weights_only` will be flipped to `True`. This limits the functions that could be executed during unpickling. Arbitrary objects will no longer be allowed to be loaded via this mode unless they are explicitly allowlisted by the user via `torch.serialization.add_safe_globals`. We recommend you start setting `weights_only=True` for any use case where you don't have full control of the loaded file. Please open an issue on GitHub for any issues related to this experimental feature.\n",
            "  net.load_state_dict(torch.load(\"best_model.pth\"))\n"
          ]
        },
        {
          "output_type": "stream",
          "name": "stdout",
          "text": [
            "Test Loss: 1.6145, Test Accuracy: 49.39%\n",
            "Accuracy of class 0: 47.00%\n",
            "Accuracy of class 1: 59.30%\n",
            "Accuracy of class 2: 25.70%\n",
            "Accuracy of class 3: 16.70%\n",
            "Accuracy of class 4: 44.90%\n",
            "Accuracy of class 5: 57.20%\n",
            "Accuracy of class 6: 62.30%\n",
            "Accuracy of class 7: 59.70%\n",
            "Accuracy of class 8: 69.00%\n",
            "Accuracy of class 9: 52.10%\n"
          ]
        }
      ]
    },
    {
      "cell_type": "code",
      "source": [
        "# Графіки втрат\n",
        "plt.figure(figsize=(12, 5))\n",
        "\n",
        "# Графік втрат\n",
        "plt.subplot(1, 2, 1)\n",
        "plt.plot(train_losses, label=\"Train Loss\")\n",
        "plt.plot(val_losses, label=\"Validation Loss\")\n",
        "plt.title(\"Loss\")\n",
        "plt.xlabel(\"Epochs\")\n",
        "plt.ylabel(\"Loss\")\n",
        "plt.legend()\n",
        "\n",
        "plt.show()\n"
      ],
      "metadata": {
        "id": "-etELrP5vDmV",
        "outputId": "4d8d3a2b-01ce-4694-9bb1-85f5e72899d3",
        "colab": {
          "base_uri": "https://localhost:8080/",
          "height": 487
        }
      },
      "execution_count": 37,
      "outputs": [
        {
          "output_type": "display_data",
          "data": {
            "text/plain": [
              "<Figure size 1200x500 with 1 Axes>"
            ],
            "image/png": "[encoded data removed]"
          },
          "metadata": {}
        }
      ]
    }
  ],
  "metadata": {
    "language_info": {
      "name": "python"
    },
    "colab": {
      "provenance": [],
      "gpuType": "T4"
    },
    "kernelspec": {
      "name": "python3",
      "display_name": "Python 3"
    },
    "accelerator": "GPU"
  },
  "nbformat": 4,
  "nbformat_minor": 0
}